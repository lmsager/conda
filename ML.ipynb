{
 "cells": [
  {
   "cell_type": "markdown",
   "id": "5df1022d",
   "metadata": {},
   "source": [
    "# AVE 101: Machine Learning for Molecules\n",
    "\n",
    "## Saint Mary's College\n",
    "\n",
    "### Notre Dame Indiana\n",
    "\n",
    "In this module, you will be introduced to the theory behind deep learning as well as practically implement a machine learning algorithm using [tensorflow](https://www.tensorflow.org/), an open source machine learning platform. Throughout this module, you will learn:\n",
    "\n",
    "* How deep learning can aid in solving problems problems traditional programming methods can not.\n",
    "* The difference between artificial intelligence, machine learning, and deep learning.\n",
    "* The difference between supervised learning, unsupervised learning, and semisupervised learning.\n",
    "* The definitions of \"training set\", \"features\", \"labels\", \"testing set\", \"model\", and \"epoch\" as they relate to machine learning.\n",
    "* To create a neural network to classify handwritten numbers.\n",
    "* Evaluate the effectiveness of the machine learning model."
   ]
  },
  {
   "cell_type": "markdown",
   "id": "bca20cc3",
   "metadata": {},
   "source": [
    "# Introduction to Machine Learning\n",
    "#### Adapted from [Dr. Sager-Smith's Ph.D. Thesis](https://knowledge.uchicago.edu/record/7640)\n",
    "\n",
    "## Artificial Intelligence, Machine Learning, and Deep Learning\n",
    "The terms artificial intelligence, machine learning, and deep learning are broad but interconnected terms that nonetheless have distinct applications.  Artificial intelligence (AI) generally refers to techniques that enable computers to imitate human-like or super-human-like intelligence.  Such intelligence can be explicitly coded--such as early chess machines--or be \"learned\" without explicitly being programmed, i.e., machine learning.  Machine learning (ML), which is the most common and rapidly-developing subfield of artificial intelligence, refers to a class of methods that enable a machine to perform intelligent tasks for which it hasn't been purposefully coded through building a statistical model based on some dataset.  Machine learning approaches use such statistical techniques to extract hidden, complex patterns that are then represented as mathematical objects and can be applied to new data related to but outside of the original dataset.  In recent years, such ML algorithms have been applied to problems including computer vision, speech-to-text, and recommendation systems.  Deep learning (DL) algorithms are a subset of machine learning algorithms that specifically utilize multi-layered neural networks.  In deep learning, function specification--the determination of what to learn from a given dataset--as well as data optimization are accomplished by the algorithm, unlike other types of machine learning where identifying features of interest by hand is required.  Note that the neural networks that are utilized in DL approaches are comprised of layers of nodes where each node (or artificial neuron) is connected to other nodes within the layer and has an associated weight--which describes the importance of any given variable--and threshold value--which is a bias that indicates whether or not data is sent along to the next layer of nodes in the network.  Deep learning approaches are popular in fields including speech recognition, economics, and, importantly, quantum chemistry.  Convolutional neural networks (CNNs) are a further subset of deep learning algorithms that apply a convolution--a mathematical operation that describes the amount of overlap of one function as it is shifted over another--in the place of matrix multiplication in at least one neural layer of the algorithm."
   ]
  },
  {
   "cell_type": "markdown",
   "id": "3ecedb09",
   "metadata": {},
   "source": [
    "<div class=\"alert alert-block alert-danger\">\n",
    "    \n",
    "## Prompt #1: What is an example of machine learning that you interacted with in your daily life?  Explain how you know."
   ]
  },
  {
   "cell_type": "markdown",
   "id": "676eb2c1",
   "metadata": {},
   "source": [
    "<div class=\"alert alert-block alert-info\">\n",
    "\n",
    "**Answer:** To answer, double click on this cell and type as normal, replacing this text.  To make the formatting of your answer look nice, please hit either Ctrl+Enter or Cmd+Enter after you have finished typing your response.  Please do not erase the \"\\<div class=\"alert alert-block alert-info\">\" above or the formatting will be erased.\n"
   ]
  },
  {
   "cell_type": "markdown",
   "id": "feb41ede",
   "metadata": {},
   "source": [
    "## Types of Learning\n",
    "Machine learning can be classified into the following categories: supervised, semi-supervised, and unsupervised.\n",
    "\n",
    "### Supervised Learning\n",
    "In supervised learning, the training set (or dataset) is the set of $N$ feature vectors $\\mathbf{x}_i$ and their corresponding label $y_i$.  As an example, if you would like to train a machine learning algorithm to be able to differentiate pictures of cats and dogs, the feature vector may correspond to the intensity of the pixels comprising a given image and the corresponding label would be either \"cat\" or \"dog\" depending on whether the image was of a cat or of a dog.  In general, labels can either belong to a finite set of classes (such as \"cat\" or \"dog\") or be a real number/vector/matrix/etc.  In a supervised learning algorithm, the training set is then used to construct a model such that when an input vector $\\mathbf{x}$ is passed through the model, a prediction for the label $y$ is output.  Going back to the example, the model would be trained to recognize the patterns that make an image belong to the category \"dog\" or to the category \"cat\" from the dataset, and then the feature vector for an image that wasn't in the dataset would be characterized by the model to either be of a cat or of a dog.\n",
    "\n",
    "### Unsupervised Learning\n",
    "In unsupervised learning, the training set is the set of $N$ feature vectors $\\mathbf{x}_i$ that have no corresponding label.  The goal of unsupervised learning is to produce a model that takes a feature vector and transforms it into a number or vector useful for the solution of some practical problem.  Unsupervised learning is often useful for grouping data into distinct clusters (referred to as clustering) without knowledge of what the clusters should be.  For example, if you provide a training set of the feature vectors comprised of pixel intensities for your images of cats and dogs, a cluster unsupervised learning algorithm may separate the images of cats from the images of dogs from the features alone without the labels being supplied.  Unsupervised machine learning is also useful for visualization tasks, dimensionality reduction, and outlier detection.\n",
    "\n",
    "### Semi-Supervised Learning\n",
    "In semi-supervised learning, a training set includes both labeled feature vectors and unlabelled feature vectors, usually with significantly more unlabelled than labelled features.  Semi-supervised learning, like supervised learning, has the goal of creating a model that can convert a feature vector into a predicted label.  The unlabelled feature vectors are included in the dataset to help the algorithm produce a better model than may be capable from a smaller training set with just labelled feature vectors. "
   ]
  },
  {
   "cell_type": "markdown",
   "id": "a39cc758",
   "metadata": {},
   "source": [
    "<div class=\"alert alert-block alert-danger\">\n",
    "    \n",
    "## Prompt #2: What type of learning (supervised, semi-supervised, or unsupervised) is done in the example you gave for Prompt #1?  How do you know?"
   ]
  },
  {
   "cell_type": "markdown",
   "id": "fe474e11",
   "metadata": {},
   "source": [
    "<div class=\"alert alert-block alert-info\">\n",
    "\n",
    "**Answer:** \n"
   ]
  },
  {
   "cell_type": "markdown",
   "id": "59bf3af2",
   "metadata": {},
   "source": [
    "## Outline of Supervised Machine Learning Algorithm\n",
    "As supervised learning is the type of learning conducted in this module, an outline of the process of supervised learning is provided.  \n",
    "\n",
    "$$ \\ $$\n",
    "\n",
    "The first step of any ML approach is to construct a dataset composed of feature vectors and their corresponding labels, which need to be in machine-readable form ($\\{\\mathbf{x}_i,y_i\\}$).  In the above example of classifying pictures of dogs and cats, the input data--the pictures of the dogs--first needed to be converted into a vector of pixel intensities (a vector of numbers) in order to be \"understood\" by the machine.  The output data--the labels of \"cat\" or \"dog\"--should also, in practice, be converted to a numerical value such as converting \"cat\" to $-1$ and \"dog\" to $+1$.  \n",
    "\n",
    "$$ \\ $$\n",
    "\n",
    "Then, the learning algorithm needs to be chosen and/or constructed.  For our example, a support vector machine (SVM) may be a suitable choice; this algorithm puts all feature vectors into a $m$-dimensional plot (where $m$ is the dimension of your feature vector) and draws a hyperplane--called a decision boundary--that separates the features with positive labels (i.e., dogs) from those with negative labels (i.e., cats).  This hyperplane is defined by\n",
    "\\begin{equation}\n",
    "    \\mathbf{wx}-b=0=(w^{(1)}x^{(1)}+w^{(2)}x^{(2)}+\\cdots w^{(m)}x^{(m)})-b\n",
    "\\end{equation}\n",
    "where $\\mathbf{w}$ is a vector of weights and $\\mathbf{x}$ is a generic feature vector. For such a feature vector, the predicted label corresponds to \n",
    "\\begin{equation}\n",
    "    y=sign(\\mathbf{wx}-b)\\in\\{-1,+1\\}.\n",
    "\\end{equation}\n",
    "The SVM algorithm then utilizes the training set to find the optimal values for $\\mathbf{w}$ and $b$ in order to yield a model that most-accurately matches its predictions for a feature vector in the training set to its corresponding label.  This is done by [solving the optimization problem](https://themlbook.com/):\n",
    "$$\n",
    "    \\text{Minimize} ||\\mathbf{w}||=\\sqrt{\\sum\\limits_{j=1}^{D}(w^{(j)})^2} \\text{ subject to } y_i(\\mathbf{wx}_i-b)\\ge 1 \\text{ for }  i=1,2,\\dots,m\n",
    "$$\n",
    "The solution to this problem is called the model, and the process of building the model is referred to as training the model or simply training.  As an aside on terminology, note that some machine learning algorithms are trained iteratively, i.e. the minimization is accomplished in an iterative manner.  If this is the case, then the number of iterations--the number of times the entire training set is passed through the algorithm--is called an epoch, and sometimes many epochs are necessary.  \n",
    "\n",
    "$$ \\ $$\n",
    "\n",
    "Generally, then, the created model is tested by running the feature vectors of a different dataset called the testing set through the model to determine the accuracy with which the model predicts the labels of the testing set.  In our example, this would equate to taking pictures of cats and dogs that hadn't been used in training the model and seeing whether the predicted label \"cat\" or \"dog\" matches the expected label.   "
   ]
  },
  {
   "cell_type": "markdown",
   "id": "9a129683",
   "metadata": {},
   "source": [
    "<div class=\"alert alert-block alert-danger\">\n",
    "    \n",
    "## Prompt #3: Using the above description of supervised machine learning and/or online resources, briefly define \"training set\", \"features\", \"labels\", \"testing set\", \"model\", and \"epoch\" as they relate to machine learning."
   ]
  },
  {
   "cell_type": "markdown",
   "id": "f55ca6f7",
   "metadata": {},
   "source": [
    "<div class=\"alert alert-block alert-info\">\n",
    "\n",
    "**Answer:** \n"
   ]
  },
  {
   "cell_type": "markdown",
   "id": "3ed39c1f",
   "metadata": {},
   "source": [
    "<div class=\"alert alert-block alert-danger\">\n",
    "    \n",
    "## Prompt #4: What is the training set in the example you gave for Prompt #1?  How do you know?"
   ]
  },
  {
   "cell_type": "markdown",
   "id": "6a92150c",
   "metadata": {},
   "source": [
    "<div class=\"alert alert-block alert-info\">\n",
    "\n",
    "**Answer:** \n"
   ]
  },
  {
   "cell_type": "markdown",
   "id": "d7b9cc60",
   "metadata": {},
   "source": [
    "# Loading Our Packages"
   ]
  },
  {
   "cell_type": "markdown",
   "id": "4b9e3328",
   "metadata": {},
   "source": [
    "First, today, let's load packages and the functions that we'll need.  First, you'll need to install tensorflow in the following cell, which is the package that we'll utilize for machine learning."
   ]
  },
  {
   "cell_type": "code",
   "execution_count": null,
   "id": "c7ba92d8",
   "metadata": {},
   "outputs": [],
   "source": [
    "!pip install tensorflow"
   ]
  },
  {
   "cell_type": "code",
   "execution_count": 25,
   "id": "f2984284",
   "metadata": {},
   "outputs": [],
   "source": [
    "#Importing the data for the image classification\n",
    "from tensorflow.keras.datasets import mnist"
   ]
  },
  {
   "cell_type": "code",
   "execution_count": 2,
   "id": "10170c99",
   "metadata": {},
   "outputs": [],
   "source": [
    "import numpy as np\n",
    "import matplotlib.pyplot as plt\n",
    "import statistics\n",
    "import math\n",
    "import tensorflow as tf\n",
    "from tensorflow import keras\n",
    "from tensorflow.keras import layers\n",
    "import scipy.stats as stats\n",
    "from scipy.stats import multivariate_normal as mvn\n",
    "from keras.models import Sequential\n",
    "from keras.layers import Dense"
   ]
  },
  {
   "cell_type": "markdown",
   "id": "1f3a89b7",
   "metadata": {},
   "source": [
    "Let's also load some additional functions we're going to use later in the notebook."
   ]
  },
  {
   "cell_type": "code",
   "execution_count": 3,
   "id": "6a8bf51e",
   "metadata": {},
   "outputs": [],
   "source": [
    "from mpmath import chebyt, chop, taylor\n",
    "from numpy.linalg import norm\n",
    "import numpy as np\n",
    "import scipy\n",
    "from scipy import interpolate "
   ]
  },
  {
   "cell_type": "markdown",
   "id": "99808e06",
   "metadata": {},
   "source": [
    "Here, we load the functions that we need to visualize the data."
   ]
  },
  {
   "cell_type": "code",
   "execution_count": 4,
   "id": "07347866",
   "metadata": {},
   "outputs": [],
   "source": [
    "def MatPrint(mat, fmt=\"g\"):\n",
    "    '''\n",
    "    Formats and prints matrices/arrays nicely. An upgrade to print(matrix).\n",
    "    '''\n",
    "    col_maxes = [max([len((\"{:\"+fmt+\"}\").format(x)) for x in col]) for col in mat.T]\n",
    "    for x in mat:\n",
    "        for i, y in enumerate(x):\n",
    "            print((\"{:\"+str(col_maxes[i])+fmt+\"}\").format(y), end=\"  \")\n",
    "        print(\"\")\n",
    "    print(\"\")\n",
    "    \n",
    "def times_value(input_list,input_value):\n",
    "    return [x * input_value for x in input_list]"
   ]
  },
  {
   "cell_type": "markdown",
   "id": "15a2d284",
   "metadata": {},
   "source": [
    "Finally, let's also specify some plot formatting before we get into the rest of the notebook."
   ]
  },
  {
   "cell_type": "code",
   "execution_count": 5,
   "id": "b48c9fe4",
   "metadata": {},
   "outputs": [],
   "source": [
    "#importing the functions we need for this plot\n",
    "import matplotlib\n",
    "import matplotlib.pyplot as plt\n",
    "import seaborn as sns\n",
    "import pandas as pd\n",
    "pd.options.display.float_format = \"{:,.3f}\".format\n",
    "\n",
    "#formatting the plot\n",
    "plt.rcParams.update({'font.size': 20,\n",
    "    \"xtick.direction\" : \"inout\", \n",
    "    \"ytick.direction\" : \"inout\",\n",
    "    'axes.edgecolor': 'black',\n",
    "    'xtick.color':    'black',\n",
    "    'ytick.color':    'black',\n",
    "    'axes.labelcolor':'black',\n",
    "    'axes.spines.right':False,\n",
    "    'axes.spines.top':  False,\n",
    "    'xtick.direction': 'inout',\n",
    "    'ytick.direction': 'inout',\n",
    "    'xtick.major.pad': 6,\n",
    "    'xtick.minor.pad': 6,\n",
    "    'ytick.major.pad': 6,\n",
    "    'ytick.minor.pad': 6,\n",
    "    'xtick.major.width': 1,\n",
    "    'xtick.minor.width': 1,\n",
    "    'ytick.major.width': 1,\n",
    "    'ytick.minor.width': 1,\n",
    "    'xtick.major.size': 10,\n",
    "    'xtick.minor.size': 6,\n",
    "    'ytick.major.size': 10,\n",
    "    'ytick.minor.size': 6,})\n",
    "plt.rcParams['font.family'] = 'Arial'\n",
    "tfont = {'fontname':'Arial'}"
   ]
  },
  {
   "cell_type": "markdown",
   "id": "84d663d8",
   "metadata": {},
   "source": [
    "# Image Classification with MNIST Data\n",
    "#### Adapted from [this tutorial by Amy Jang](https://www.kaggle.com/code/amyjang/tensorflow-mnist-cnn-tutorial)\n",
    "Now, let's put the definitions that we have been given into practice by training a model to recognize handwritten numbers. Image classification of handwriting is a problem unable to be solved with traditional programming techniques--as everyone has different ways of forming letters making exactly defining the pixel intensities that form a \"7\", for example, impossible.  However, machine learning techniques excel at image classification by using trial and error to create a model that identifies the characteristics of a given number.\n",
    "\n",
    "## Loading the MNIST Data\n",
    "The [MNIST Database](https://en.wikipedia.org/wiki/MNIST_database) contains tens of thousands black and white images of handwritten numbers between 0 and 9.  The first step to create a model that can classify these images is to load the data, which is done in the cell below."
   ]
  },
  {
   "cell_type": "code",
   "execution_count": 6,
   "id": "bb361f95",
   "metadata": {},
   "outputs": [],
   "source": [
    "# importing the data in both the training and testing sets\n",
    "(x_train, y_train), (x_test, y_test) = mnist.load_data()"
   ]
  },
  {
   "cell_type": "markdown",
   "id": "ad04fc72",
   "metadata": {},
   "source": [
    "Let's look at the data that we just downloaded."
   ]
  },
  {
   "cell_type": "code",
   "execution_count": 7,
   "id": "b98a3e49",
   "metadata": {},
   "outputs": [
    {
     "name": "stdout",
     "output_type": "stream",
     "text": [
      "0  0  0  0    0    0    0    0    0    0    0    0    0    0    0    0    0    0    0    0    0    0    0    0  0  0  0  0  \n",
      "0  0  0  0    0    0    0    0    0    0    0    0    0    0    0    0    0    0    0    0    0    0    0    0  0  0  0  0  \n",
      "0  0  0  0    0    0    0    0    0    0    0    0    0    0    0    0    0    0    0    0    0    0    0    0  0  0  0  0  \n",
      "0  0  0  0    0    0    0    0    0    0    0    0    0    0    0    0    0    0    0    0    0    0    0    0  0  0  0  0  \n",
      "0  0  0  0    0    0    0    0    0    0    0    0    0    0    0    0    0    0    0    0    0    0    0    0  0  0  0  0  \n",
      "0  0  0  0    0    0    0    0    0    0    0    0    3   18   18   18  126  136  175   26  166  255  247  127  0  0  0  0  \n",
      "0  0  0  0    0    0    0    0   30   36   94  154  170  253  253  253  253  253  225  172  253  242  195   64  0  0  0  0  \n",
      "0  0  0  0    0    0    0   49  238  253  253  253  253  253  253  253  253  251   93   82   82   56   39    0  0  0  0  0  \n",
      "0  0  0  0    0    0    0   18  219  253  253  253  253  253  198  182  247  241    0    0    0    0    0    0  0  0  0  0  \n",
      "0  0  0  0    0    0    0    0   80  156  107  253  253  205   11    0   43  154    0    0    0    0    0    0  0  0  0  0  \n",
      "0  0  0  0    0    0    0    0    0   14    1  154  253   90    0    0    0    0    0    0    0    0    0    0  0  0  0  0  \n",
      "0  0  0  0    0    0    0    0    0    0    0  139  253  190    2    0    0    0    0    0    0    0    0    0  0  0  0  0  \n",
      "0  0  0  0    0    0    0    0    0    0    0   11  190  253   70    0    0    0    0    0    0    0    0    0  0  0  0  0  \n",
      "0  0  0  0    0    0    0    0    0    0    0    0   35  241  225  160  108    1    0    0    0    0    0    0  0  0  0  0  \n",
      "0  0  0  0    0    0    0    0    0    0    0    0    0   81  240  253  253  119   25    0    0    0    0    0  0  0  0  0  \n",
      "0  0  0  0    0    0    0    0    0    0    0    0    0    0   45  186  253  253  150   27    0    0    0    0  0  0  0  0  \n",
      "0  0  0  0    0    0    0    0    0    0    0    0    0    0    0   16   93  252  253  187    0    0    0    0  0  0  0  0  \n",
      "0  0  0  0    0    0    0    0    0    0    0    0    0    0    0    0    0  249  253  249   64    0    0    0  0  0  0  0  \n",
      "0  0  0  0    0    0    0    0    0    0    0    0    0    0   46  130  183  253  253  207    2    0    0    0  0  0  0  0  \n",
      "0  0  0  0    0    0    0    0    0    0    0    0   39  148  229  253  253  253  250  182    0    0    0    0  0  0  0  0  \n",
      "0  0  0  0    0    0    0    0    0    0   24  114  221  253  253  253  253  201   78    0    0    0    0    0  0  0  0  0  \n",
      "0  0  0  0    0    0    0    0   23   66  213  253  253  253  253  198   81    2    0    0    0    0    0    0  0  0  0  0  \n",
      "0  0  0  0    0    0   18  171  219  253  253  253  253  195   80    9    0    0    0    0    0    0    0    0  0  0  0  0  \n",
      "0  0  0  0   55  172  226  253  253  253  253  244  133   11    0    0    0    0    0    0    0    0    0    0  0  0  0  0  \n",
      "0  0  0  0  136  253  253  253  212  135  132   16    0    0    0    0    0    0    0    0    0    0    0    0  0  0  0  0  \n",
      "0  0  0  0    0    0    0    0    0    0    0    0    0    0    0    0    0    0    0    0    0    0    0    0  0  0  0  0  \n",
      "0  0  0  0    0    0    0    0    0    0    0    0    0    0    0    0    0    0    0    0    0    0    0    0  0  0  0  0  \n",
      "0  0  0  0    0    0    0    0    0    0    0    0    0    0    0    0    0    0    0    0    0    0    0    0  0  0  0  0  \n",
      "\n"
     ]
    }
   ],
   "source": [
    "MatPrint(x_train[0])"
   ]
  },
  {
   "cell_type": "code",
   "execution_count": 8,
   "id": "ae14c77d",
   "metadata": {},
   "outputs": [
    {
     "data": {
      "text/plain": [
       "<matplotlib.image.AxesImage at 0x2951442e0>"
      ]
     },
     "execution_count": 8,
     "metadata": {},
     "output_type": "execute_result"
    },
    {
     "data": {
      "image/png": "[encoded data removed]",
      "text/plain": [
       "<Figure size 640x480 with 1 Axes>"
      ]
     },
     "metadata": {},
     "output_type": "display_data"
    }
   ],
   "source": [
    "image = x_train[0]\n",
    "plt.imshow(image, cmap='gray')"
   ]
  },
  {
   "cell_type": "code",
   "execution_count": 9,
   "id": "9b5448a0",
   "metadata": {},
   "outputs": [
    {
     "data": {
      "text/plain": [
       "5"
      ]
     },
     "execution_count": 9,
     "metadata": {},
     "output_type": "execute_result"
    }
   ],
   "source": [
    "y_train[0]"
   ]
  },
  {
   "cell_type": "markdown",
   "id": "994bd7df",
   "metadata": {},
   "source": [
    "<div class=\"alert alert-block alert-danger\">\n",
    "    \n",
    "## Prompt #5: Using the code in the cells above, to what does x_train and y_train correspond?  How do these differ from x_test and y_test?\n",
    "    \n",
    "(Hint: Looking at the source for this section of the module may help.)"
   ]
  },
  {
   "cell_type": "markdown",
   "id": "9874fe4e",
   "metadata": {},
   "source": [
    "<div class=\"alert alert-block alert-info\">\n",
    "\n",
    "**Answer:** \n"
   ]
  },
  {
   "cell_type": "markdown",
   "id": "25fb2ed2",
   "metadata": {},
   "source": [
    "The following will show the number of times each digit is present in our training set.  As it takes awhile for this to run, I've gone ahead and included an image of what the output should be below the cell."
   ]
  },
  {
   "cell_type": "code",
   "execution_count": null,
   "id": "e253a17e",
   "metadata": {},
   "outputs": [],
   "source": [
    "#sns.countplot(y_train)"
   ]
  },
  {
   "attachments": {
    "MNIST.png": {
     "image/png": "[encoded data removed]"
    }
   },
   "cell_type": "markdown",
   "id": "ea4f55bc",
   "metadata": {},
   "source": [
    "![MNIST.png](attachment:MNIST.png)"
   ]
  },
  {
   "cell_type": "markdown",
   "id": "f3e7e4ad",
   "metadata": {},
   "source": [
    "<div class=\"alert alert-block alert-danger\">\n",
    "    \n",
    "## Prompt #6: You'll notice that there is a similar number of each digit in the training set.  Why do you think this may be important?"
   ]
  },
  {
   "cell_type": "markdown",
   "id": "6eee1882",
   "metadata": {},
   "source": [
    "<div class=\"alert alert-block alert-info\">\n",
    "\n",
    "**Answer:** \n"
   ]
  },
  {
   "cell_type": "markdown",
   "id": "c23166bc",
   "metadata": {},
   "source": [
    "## Making the Model\n",
    "To make the model, first the data must be processed to be in a form that is easily readable by the computer (i.e., easier for the model to work with).  To do this, we will flatten the image, normalize the image, and categorize the labels."
   ]
  },
  {
   "cell_type": "code",
   "execution_count": 10,
   "id": "08175441",
   "metadata": {},
   "outputs": [],
   "source": [
    "#Flattening the image\n",
    "x_train = x_train.reshape(60000, 784)\n",
    "x_test = x_test.reshape(10000, 784)\n",
    "\n",
    "#Normalizing the image\n",
    "x_train = x_train / 255\n",
    "x_test = x_test / 255 \n",
    "\n",
    "#Categorizing the labels\n",
    "num_categories = 10\n",
    "y_train = keras.utils.to_categorical(y_train, num_categories)\n",
    "y_test = keras.utils.to_categorical(y_test, num_categories)"
   ]
  },
  {
   "cell_type": "markdown",
   "id": "3792cb70",
   "metadata": {},
   "source": [
    "Next, we will create the model, which is done in the following cell."
   ]
  },
  {
   "cell_type": "code",
   "execution_count": 12,
   "id": "1af582f5",
   "metadata": {},
   "outputs": [],
   "source": [
    "model = Sequential()\n",
    "model.add(Dense(units=512, activation='relu', input_shape=(784,)))\n",
    "model.add(Dense(units = 512, activation='relu'))\n",
    "model.add(Dense(units = 10, activation='softmax'))"
   ]
  },
  {
   "cell_type": "markdown",
   "id": "914f3f63",
   "metadata": {},
   "source": [
    "A summary of the model we've just created is given by running the following cell."
   ]
  },
  {
   "cell_type": "code",
   "execution_count": 13,
   "id": "969a8300",
   "metadata": {},
   "outputs": [
    {
     "name": "stdout",
     "output_type": "stream",
     "text": [
      "Model: \"sequential_1\"\n",
      "_________________________________________________________________\n",
      " Layer (type)                Output Shape              Param #   \n",
      "=================================================================\n",
      " dense_3 (Dense)             (None, 512)               401920    \n",
      "                                                                 \n",
      " dense_4 (Dense)             (None, 512)               262656    \n",
      "                                                                 \n",
      " dense_5 (Dense)             (None, 10)                5130      \n",
      "                                                                 \n",
      "=================================================================\n",
      "Total params: 669706 (2.55 MB)\n",
      "Trainable params: 669706 (2.55 MB)\n",
      "Non-trainable params: 0 (0.00 Byte)\n",
      "_________________________________________________________________\n"
     ]
    }
   ],
   "source": [
    "model.summary()"
   ]
  },
  {
   "cell_type": "markdown",
   "id": "b2e55eba",
   "metadata": {},
   "source": [
    "<div class=\"alert alert-block alert-danger\">\n",
    "    \n",
    "## Prompt #7: Read [this article](https://towardsdatascience.com/considerations-when-choosing-a-machine-learning-model-aa31f52c27f3) and comment on how the parameters of machine learning algorithms are chosen."
   ]
  },
  {
   "cell_type": "markdown",
   "id": "d5e265ab",
   "metadata": {},
   "source": [
    "<div class=\"alert alert-block alert-info\">\n",
    "\n",
    "**Answer:** \n"
   ]
  },
  {
   "cell_type": "markdown",
   "id": "7ffc4830",
   "metadata": {},
   "source": [
    "Now, we compile and train the model."
   ]
  },
  {
   "cell_type": "code",
   "execution_count": 15,
   "id": "52eff86d",
   "metadata": {},
   "outputs": [],
   "source": [
    "#Compiling the model\n",
    "model.compile(loss='categorical_crossentropy', metrics=['accuracy'])"
   ]
  },
  {
   "cell_type": "code",
   "execution_count": 17,
   "id": "3e5ae5ea",
   "metadata": {},
   "outputs": [
    {
     "name": "stdout",
     "output_type": "stream",
     "text": [
      "Epoch 1/5\n",
      "1875/1875 [==============================] - 29s 15ms/step - loss: 0.0575 - accuracy: 0.9877 - val_loss: 0.1592 - val_accuracy: 0.9772\n",
      "Epoch 2/5\n",
      "1875/1875 [==============================] - 28s 15ms/step - loss: 0.0519 - accuracy: 0.9896 - val_loss: 0.1935 - val_accuracy: 0.9791\n",
      "Epoch 3/5\n",
      "1875/1875 [==============================] - 27s 15ms/step - loss: 0.0462 - accuracy: 0.9910 - val_loss: 0.2069 - val_accuracy: 0.9797\n",
      "Epoch 4/5\n",
      "1875/1875 [==============================] - 28s 15ms/step - loss: 0.0429 - accuracy: 0.9919 - val_loss: 0.2443 - val_accuracy: 0.9751\n",
      "Epoch 5/5\n",
      "1875/1875 [==============================] - 28s 15ms/step - loss: 0.0397 - accuracy: 0.9928 - val_loss: 0.2568 - val_accuracy: 0.9756\n"
     ]
    }
   ],
   "source": [
    "#Training the model\n",
    "history = model.fit(x_train, y_train, epochs=5, verbose=1, validation_data=(x_test, y_test))"
   ]
  },
  {
   "cell_type": "code",
   "execution_count": null,
   "id": "4d3772dc",
   "metadata": {},
   "outputs": [],
   "source": []
  },
  {
   "cell_type": "markdown",
   "id": "8903a267",
   "metadata": {},
   "source": [
    "## Assessing Accuracy of the Model.\n",
    "Note that there were two types of accuracy in each epoch of training the model: the \"accuracy\" and the \"val_accuracy\" scores. The \"accuracy\" corresponds to the accuracy of the model in predicting the training set. The \"val_accuracy\" corresponds to the accuracy of the model in predicting the testing set. Recall that the testing data was not used to train the model."
   ]
  },
  {
   "cell_type": "markdown",
   "id": "f8a7446f",
   "metadata": {},
   "source": [
    "<div class=\"alert alert-block alert-danger\">\n",
    "    \n",
    "## Prompt #8: The validation acuracy is the accuracy of the model at predicting the testing set.  You may have noticed that increasing the number of epochs doesn't always increase the validation accuracy.  Why do you think this may be the case?"
   ]
  },
  {
   "cell_type": "markdown",
   "id": "ce586748",
   "metadata": {},
   "source": [
    "<div class=\"alert alert-block alert-info\">\n",
    "\n",
    "**Answer:** \n"
   ]
  },
  {
   "cell_type": "markdown",
   "id": "6423fdef",
   "metadata": {},
   "source": [
    "<div class=\"alert alert-block alert-danger\">\n",
    "    \n",
    "## Prompt #9: How accurate was the model?  What is one suggestion for how to improve the accuracy of the model?"
   ]
  },
  {
   "cell_type": "markdown",
   "id": "201677e6",
   "metadata": {},
   "source": [
    "<div class=\"alert alert-block alert-info\">\n",
    "\n",
    "**Answer:** \n"
   ]
  },
  {
   "cell_type": "markdown",
   "id": "cf694664",
   "metadata": {},
   "source": [
    "## Viewing the Results"
   ]
  },
  {
   "cell_type": "code",
   "execution_count": 18,
   "id": "51edeab0",
   "metadata": {},
   "outputs": [
    {
     "name": "stdout",
     "output_type": "stream",
     "text": [
      "313/313 [==============================] - 1s 2ms/step\n"
     ]
    }
   ],
   "source": [
    "#Getting the predicted labels for the testing set\n",
    "predicted_labels=model.predict(x_test)"
   ]
  },
  {
   "cell_type": "code",
   "execution_count": 19,
   "id": "e230c7d6",
   "metadata": {},
   "outputs": [
    {
     "name": "stdout",
     "output_type": "stream",
     "text": [
      "Here are the indices where the model labeled the text incorrectly.\n",
      "[43, 92, 149, 247, 268, 326, 340, 359, 381, 389, 412, 417, 445, 495, 582, 583, 619, 646, 659, 684, 691, 720, 723, 844, 877, 882, 947, 951, 1003, 1014, 1039, 1112, 1156, 1181, 1224, 1226, 1232, 1242, 1247, 1260, 1319, 1328, 1337, 1393, 1395, 1467, 1520, 1530, 1549, 1553, 1609, 1642, 1678, 1681, 1717, 1721, 1800, 1901, 1941, 1984, 1987, 2004, 2033, 2035, 2052, 2070, 2093, 2098, 2135, 2182, 2224, 2272, 2280, 2291, 2298, 2299, 2358, 2369, 2387, 2395, 2405, 2414, 2422, 2426, 2462, 2488, 2597, 2648, 2654, 2720, 2730, 2769, 2810, 2863, 2921, 2927, 2939, 2953, 3073, 3117, 3225, 3250, 3289, 3326, 3422, 3441, 3503, 3520, 3525, 3558, 3567, 3597, 3629, 3662, 3702, 3727, 3780, 3808, 3817, 3818, 3869, 3893, 3906, 3941, 3970, 3976, 3984, 3985, 4027, 4065, 4102, 4112, 4174, 4176, 4193, 4201, 4224, 4248, 4259, 4284, 4300, 4355, 4360, 4369, 4384, 4405, 4419, 4425, 4437, 4443, 4487, 4497, 4505, 4536, 4548, 4601, 4615, 4731, 4740, 4761, 4807, 4814, 4823, 4833, 4876, 4879, 4956, 4966, 5086, 5138, 5265, 5331, 5457, 5586, 5642, 5654, 5676, 5757, 5887, 5937, 5955, 5960, 5972, 5973, 5982, 5997, 6009, 6011, 6023, 6059, 6166, 6421, 6555, 6571, 6574, 6576, 6597, 6625, 6641, 6651, 6755, 6783, 6817, 6847, 6980, 7216, 7511, 7545, 7735, 7886, 7915, 7991, 8093, 8094, 8198, 8311, 8325, 8339, 8353, 8408, 8846, 9009, 9015, 9024, 9054, 9163, 9280, 9422, 9540, 9587, 9634, 9664, 9679, 9692, 9729, 9745, 9755, 9768, 9779, 9782, 9808, 9839, 9904, 9940]\n"
     ]
    }
   ],
   "source": [
    "#Determining for what indices the predicted labels don't match the actual labels.\n",
    "wrong_ind=[]\n",
    "for i in list(range(len(predicted_labels))):\n",
    "    if list(predicted_labels[i]).index(max(predicted_labels[i]))==list(y_test[i]).index(1):\n",
    "        pass\n",
    "    else:\n",
    "        wrong_ind.append(i)\n",
    "\n",
    "print(\"Here are the indices where the model labeled the text incorrectly.\")\n",
    "print(wrong_ind)"
   ]
  },
  {
   "cell_type": "code",
   "execution_count": 24,
   "id": "88a9f629",
   "metadata": {},
   "outputs": [
    {
     "name": "stdout",
     "output_type": "stream",
     "text": [
      "Actual label:  4\n",
      "Predicted label:  6\n",
      "\n",
      "\n"
     ]
    },
    {
     "data": {
      "text/plain": [
       "<matplotlib.image.AxesImage at 0x29c4406d0>"
      ]
     },
     "execution_count": 24,
     "metadata": {},
     "output_type": "execute_result"
    },
    {
     "data": {
      "image/png": "[encoded data removed]",
      "text/plain": [
       "<Figure size 640x480 with 1 Axes>"
      ]
     },
     "metadata": {},
     "output_type": "display_data"
    }
   ],
   "source": [
    "#Visualizing the labels that don't match\n",
    "ind = 247\n",
    "print(\"Actual label: \",list(y_test[ind]).index(1))\n",
    "print(\"Predicted label: \",list(predicted_labels[ind]).index(max(predicted_labels[ind])))\n",
    "\n",
    "print('\\n')\n",
    "image = x_test[ind].reshape(28,28)\n",
    "plt.imshow(image, cmap='gray')"
   ]
  },
  {
   "cell_type": "markdown",
   "id": "d2700568",
   "metadata": {},
   "source": [
    "<div class=\"alert alert-block alert-danger\">\n",
    "    \n",
    "## Prompt #10: Visualize the labels that don't match in the cell above by inputting `ind=#` for several of the indices where the prediction was wrong.  Does there seem to be any trend?  Why may this be? "
   ]
  },
  {
   "cell_type": "markdown",
   "id": "2dd329ce",
   "metadata": {},
   "source": [
    "<div class=\"alert alert-block alert-info\">\n",
    "\n",
    "**Answer:** \n"
   ]
  }
 ],
 "metadata": {
  "kernelspec": {
   "display_name": "Python 3 (ipykernel)",
   "language": "python",
   "name": "python3"
  },
  "language_info": {
   "codemirror_mode": {
    "name": "ipython",
    "version": 3
   },
   "file_extension": ".py",
   "mimetype": "text/x-python",
   "name": "python",
   "nbconvert_exporter": "python",
   "pygments_lexer": "ipython3",
   "version": "3.9.5"
  }
 },
 "nbformat": 4,
 "nbformat_minor": 5
}
